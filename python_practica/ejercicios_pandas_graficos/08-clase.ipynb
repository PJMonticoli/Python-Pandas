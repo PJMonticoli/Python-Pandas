{
 "cells": [
  {
   "cell_type": "code",
   "execution_count": null,
   "metadata": {},
   "outputs": [],
   "source": [
    "from datetime import datetime\n",
    "import pandas as pd\n",
    "import numpy as np"
   ]
  },
  {
   "cell_type": "code",
   "execution_count": null,
   "metadata": {},
   "outputs": [],
   "source": [
    "# Convertir cadena de texto a datatime\n",
    "fecha_str = '2024-01-01 10:00:00'\n",
    "fecha_dt = pd.to_datetime(fecha_str)\n",
    "print(type(fecha_dt)) # esta es la fecha ya convertida a Timestamp de pandas\n",
    "print(type(fecha_str)) # fecha en formato str"
   ]
  },
  {
   "cell_type": "code",
   "execution_count": null,
   "metadata": {},
   "outputs": [],
   "source": [
    "# Creando un objeto Timestamp en Pandas\n",
    "timestamp = pd.Timestamp(datetime.now())\n",
    "print(timestamp)"
   ]
  },
  {
   "cell_type": "code",
   "execution_count": null,
   "metadata": {},
   "outputs": [],
   "source": [
    "# Creando un DataTimeIndex en Pandas con rango inicio-fin y frecuencia mes\n",
    "meses = pd.date_range(start='2023-01-01', end='2023-12-31', freq='M')\n",
    "print(meses)"
   ]
  },
  {
   "cell_type": "code",
   "execution_count": null,
   "metadata": {},
   "outputs": [],
   "source": [
    "# Creando un DataTimeIndex en Pandas con rango inicio-fin y frecuencia días\n",
    "serie_diaria = pd.date_range(start='2023-01-01', end='2023-01-31',freq='D')\n",
    "print(serie_diaria)"
   ]
  },
  {
   "cell_type": "code",
   "execution_count": null,
   "metadata": {},
   "outputs": [],
   "source": [
    "# Creación de Series de tiempo. Con np creo una serie random y el index\n",
    "# es de meses en este caso\n",
    "serie_meses = pd.Series(np.random.rand(len(meses)), index= meses)\n",
    "print(serie_meses)"
   ]
  },
  {
   "cell_type": "code",
   "execution_count": null,
   "metadata": {},
   "outputs": [],
   "source": [
    "# Desplazamiento o \"SHIFTING\"\n",
    "serie_shifted = serie_meses.shift(1)\n",
    "print(serie_shifted)"
   ]
  },
  {
   "cell_type": "code",
   "execution_count": null,
   "metadata": {},
   "outputs": [],
   "source": [
    "# Asignando una zona horaria\n",
    "serie_tiempo_tz = serie_diaria.tz_localize('UTC')\n",
    "print(serie_tiempo_tz)\n"
   ]
  },
  {
   "cell_type": "code",
   "execution_count": null,
   "metadata": {},
   "outputs": [],
   "source": [
    "# Convertir a otra zona horaria\n",
    "serie_tiempo_tz_ny = serie_tiempo_tz.tz_convert('America/New_York')\n",
    "print(serie_tiempo_tz_ny)"
   ]
  },
  {
   "cell_type": "code",
   "execution_count": null,
   "metadata": {},
   "outputs": [],
   "source": [
    "# Creando un objeto Period\n",
    "periodo = pd.Period('2023-01')\n",
    "print(periodo)"
   ]
  },
  {
   "cell_type": "code",
   "execution_count": null,
   "metadata": {},
   "outputs": [],
   "source": [
    "from datetime import timedelta\n",
    "# Creando un objeto Timestamp en Pandas\n",
    "timestamp = pd.Timestamp(datetime.now())\n",
    "print(timestamp)\n",
    "# Creando un objeto timedelta\n",
    "# use days, pero tambien se puede weeks,hours,minutes,seconds,etc\n",
    "delta = timedelta(days=7) # se guardan 7 dias en la variable delta\n",
    "print(delta)\n",
    "nueva_fecha = timestamp + delta\n",
    "print(nueva_fecha)"
   ]
  },
  {
   "cell_type": "code",
   "execution_count": null,
   "metadata": {},
   "outputs": [],
   "source": [
    "# Creando un DataFrame con una columna de fechas en formato de texto\n",
    "df = pd.DataFrame({'fecha': ['2024-01-01', '2024-01-02','2024-01-03'],\n",
    "                   'valor':[1,2,3]})\n",
    "\n",
    "# Convertir la columna de fechas a datatime\n",
    "df['fecha'] = pd.to_datetime(df['fecha'])\n",
    "print(df)"
   ]
  },
  {
   "cell_type": "code",
   "execution_count": null,
   "metadata": {},
   "outputs": [],
   "source": [
    "# Suponiendo que 'precios' es nuestra serie de tiempo de precios de cierre diarios\n",
    "precios = pd.Series(np.random.rand(100),index=pd.date_range(start='2024-01-01', periods=100,freq='D'))\n",
    "print(precios)\n",
    "\n",
    "# Calcular la media movil de los ultimos 7 dias\n",
    "# el metodo rolling toma la ventana/window que yo asigne\n",
    "media_movil = precios.rolling(window=7).mean() \n",
    "suma_movil = precios.rolling(window=7).sum() \n",
    "print(media_movil)\n",
    "print(suma_movil)"
   ]
  },
  {
   "cell_type": "code",
   "execution_count": null,
   "metadata": {},
   "outputs": [],
   "source": [
    "import matplotlib.pyplot as plt\n",
    "\n",
    "# Trazar la serie d etiempo de precios y la media movil\n",
    "# Creo una figura con figure => tamaño 12,6\n",
    "plt.figure(figsize=(12,6))\n",
    "# grafico los datos de la serie precios\n",
    "precios.plot(label=\"Precio de cierre\")\n",
    "# grafico los datos de la serie media_movil\n",
    "media_movil.plot(label='Media móvil de 7 días')\n",
    "plt.title('Precio de cierre y media móvil de 7 días')\n",
    "# con lengend() agrego los labels generados\n",
    "plt.legend()\n",
    "plt.show()\n"
   ]
  }
 ],
 "metadata": {
  "kernelspec": {
   "display_name": "Python 3",
   "language": "python",
   "name": "python3"
  },
  "language_info": {
   "codemirror_mode": {
    "name": "ipython",
    "version": 3
   },
   "file_extension": ".py",
   "mimetype": "text/x-python",
   "name": "python",
   "nbconvert_exporter": "python",
   "pygments_lexer": "ipython3",
   "version": "3.11.9"
  }
 },
 "nbformat": 4,
 "nbformat_minor": 2
}
