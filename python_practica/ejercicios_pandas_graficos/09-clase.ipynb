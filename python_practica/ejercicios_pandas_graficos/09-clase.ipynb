{
 "cells": [
  {
   "cell_type": "code",
   "execution_count": null,
   "metadata": {},
   "outputs": [],
   "source": [
    "import pandas as pd\n",
    "\n",
    "\n",
    "url = 'https://raw.githubusercontent.com/datasciencedojo/datasets/master/titanic.csv'\n",
    "df = pd.read_csv(url)\n",
    "\n",
    "# primeras 10 filas\n",
    "print(df.head(10))\n",
    "# obtener informacion del df\n",
    "print(df.info())\n"
   ]
  },
  {
   "cell_type": "code",
   "execution_count": null,
   "metadata": {},
   "outputs": [],
   "source": [
    "# Verificar si hay valores nulos\n",
    "print(df.isnull().sum())\n",
    "# Eliminar filas con valores nulos\n",
    "df = df.dropna().reset_index(drop=True)"
   ]
  },
  {
   "cell_type": "code",
   "execution_count": null,
   "metadata": {},
   "outputs": [],
   "source": [
    "# verificar si hay duplicados\n",
    "print(df.duplicated().sum())\n",
    "# Elimino duplicados\n",
    "df = df.drop_duplicates()"
   ]
  },
  {
   "cell_type": "code",
   "execution_count": null,
   "metadata": {},
   "outputs": [],
   "source": [
    "# Convierto column age a entero\n",
    "df ['Age']= df['Age'].astype(int)\n",
    "\n",
    "# Creacion de nuevas columnas\n",
    "df['Tamaño Familia'] = df['SibSp'] + df['Parch']\n",
    "\n",
    "# Ordenamiento de datos\n",
    "df_sorted = df.sort_values(by='Age').reset_index(drop=True)\n",
    "print(df_sorted)"
   ]
  },
  {
   "cell_type": "code",
   "execution_count": null,
   "metadata": {},
   "outputs": [],
   "source": [
    "# Aplicar funciones estadisticas\n",
    "print(df['Age'].mean())\n",
    "print(df['Fare'].max())"
   ]
  },
  {
   "cell_type": "code",
   "execution_count": null,
   "metadata": {},
   "outputs": [],
   "source": [
    "# Visualizacion de datos\n",
    "import matplotlib.pyplot as plt\n",
    "df['Age'].hist(bins=30) # => histograma de 30 contenedores/barras/intervalos\n",
    "plt.xlabel('Age')\n",
    "plt.ylabel('Count')\n",
    "plt.show()"
   ]
  },
  {
   "cell_type": "code",
   "execution_count": 20,
   "metadata": {},
   "outputs": [],
   "source": [
    "# Creacion de resumenes de datos\n",
    "sumary = df.describe()\n",
    "\n",
    "# Exportacion de los resultados\n",
    "sumary.to_csv('sumary.csv')"
   ]
  },
  {
   "cell_type": "code",
   "execution_count": null,
   "metadata": {},
   "outputs": [],
   "source": [
    "def categorize_age(age):\n",
    "    if age<18:\n",
    "        return \"Es un niño\"\n",
    "    elif age<60: \n",
    "        return 'Es un adulto'\n",
    "    else:\n",
    "        return \"Anciano\"\n",
    "    \n",
    "df['Categoria Edad'] = df['Age'].apply(categorize_age)\n",
    "print(df)"
   ]
  },
  {
   "cell_type": "code",
   "execution_count": null,
   "metadata": {},
   "outputs": [],
   "source": [
    "survived_df = df[df['Survived']==1].reset_index(drop=True)\n",
    "print(survived_df)"
   ]
  },
  {
   "cell_type": "code",
   "execution_count": null,
   "metadata": {},
   "outputs": [],
   "source": [
    "mean_age_by_class = df.groupby('Pclass')['Age'].mean()\n",
    "print(mean_age_by_class)\n"
   ]
  },
  {
   "cell_type": "code",
   "execution_count": null,
   "metadata": {},
   "outputs": [],
   "source": [
    "# imprimir por clase las medias de los tickets(fare) pagados\n",
    "pivot_table = df.pivot_table(index='Sex', columns='Pclass',values='Fare',aggfunc='mean')\n",
    "print(pivot_table)"
   ]
  }
 ],
 "metadata": {
  "kernelspec": {
   "display_name": "Python 3",
   "language": "python",
   "name": "python3"
  },
  "language_info": {
   "codemirror_mode": {
    "name": "ipython",
    "version": 3
   },
   "file_extension": ".py",
   "mimetype": "text/x-python",
   "name": "python",
   "nbconvert_exporter": "python",
   "pygments_lexer": "ipython3",
   "version": "3.11.9"
  }
 },
 "nbformat": 4,
 "nbformat_minor": 2
}
