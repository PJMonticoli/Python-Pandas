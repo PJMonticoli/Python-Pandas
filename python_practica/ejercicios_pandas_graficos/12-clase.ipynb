{
 "cells": [
  {
   "cell_type": "code",
   "execution_count": null,
   "metadata": {},
   "outputs": [],
   "source": [
    "import pandas as pd\n",
    "import matplotlib.pyplot as plt\n",
    "import seaborn as sns\n",
    "data = {\n",
    "    \"Nombre\" : ['Pablo', \"Juan\", \"Eduardo\", \"Santiago\"],\n",
    "    \"Edad\" : [24,24,60,25],\n",
    "    \"Grado\" : [\"A\",\"B\",\"C\",\"D\"],\n",
    "    \"Calificación\": [88, 92, 85, 70]\n",
    "}\n",
    "df = pd.DataFrame(data)\n"
   ]
  },
  {
   "cell_type": "code",
   "execution_count": null,
   "metadata": {},
   "outputs": [],
   "source": [
    "# mostrar solo los estudiantes con calificaciones mayores a 80.\n",
    "# mostrar solo las columnas 'Nombre' y 'Calificación'\n",
    "df_filtrado = df[df['Calificación'] > 80][['Nombre', 'Calificación']]\n",
    "print(df_filtrado)"
   ]
  },
  {
   "cell_type": "code",
   "execution_count": null,
   "metadata": {},
   "outputs": [],
   "source": [
    "# Agrega una columna 'Asistencia' con valores booleanos\n",
    "df['Asistencia'] = [True, False, True, False]\n",
    "print(df)"
   ]
  },
  {
   "cell_type": "code",
   "execution_count": null,
   "metadata": {},
   "outputs": [],
   "source": [
    "# Agrupa el DataFrame por 'Grado' y calcula la media de las calificaciones para cada grupo.\n",
    "df_agrupado = df.groupby('Grado')['Calificación'].mean().reset_index()\n",
    "print(df_agrupado)"
   ]
  },
  {
   "cell_type": "code",
   "execution_count": null,
   "metadata": {},
   "outputs": [],
   "source": [
    "# Utiliza el método describe para obtener estadísticas\n",
    "print(df.describe())"
   ]
  },
  {
   "cell_type": "code",
   "execution_count": null,
   "metadata": {},
   "outputs": [],
   "source": [
    "# Crea un gráfico de barras para mostrar la cantidad de estudiantes por grado.\n",
    "\n",
    "df['Grado'].value_counts().plot(kind=\"bar\")\n",
    "plt.xlabel('Grado')\n",
    "plt.ylabel('Cantidad de estudiantes')\n",
    "plt.title('Cantidad de estudiantes por grado')\n",
    "plt.show()"
   ]
  },
  {
   "cell_type": "code",
   "execution_count": null,
   "metadata": {},
   "outputs": [],
   "source": [
    "# Crea un histograma de las calificaciones de los estudiantes.\n",
    "df['Calificación'].plot(kind='hist', bins=5)\n",
    "plt.xlabel('Calificación')\n",
    "plt.ylabel('Frecuencia')\n",
    "plt.title('Distribución de calificaciones')\n",
    "plt.show()"
   ]
  },
  {
   "cell_type": "code",
   "execution_count": null,
   "metadata": {},
   "outputs": [],
   "source": [
    "# Crea un gráfico de dispersión de 'Edad' vs 'Calificación' usando seaborn.\n",
    "\n",
    "sns.scatterplot(x=\"Edad\",y=\"Calificación\",data=df)\n",
    "plt.xlabel('Edad')\n",
    "plt.ylabel('Calificación')\n",
    "plt.title('Edad vs Calificación')\n",
    "plt.show()"
   ]
  },
  {
   "cell_type": "code",
   "execution_count": null,
   "metadata": {},
   "outputs": [],
   "source": [
    "# Crea un boxplot de calificaciones por grado usando seaborn.\n",
    "sns.boxplot(x='Grado', y='Calificación', data=df)\n",
    "plt.xlabel('Grado')\n",
    "plt.ylabel('Calificación')\n",
    "plt.title('Boxplot de calificaciones por grado')\n",
    "plt.show()"
   ]
  },
  {
   "cell_type": "code",
   "execution_count": null,
   "metadata": {},
   "outputs": [],
   "source": [
    "# Carga el dataset de Titanic de seaborn.\n",
    "titanic = sns.load_dataset('titanic')\n",
    "print(titanic.head())\n",
    "# Calcula el porcentaje de supervivencia por clase de pasajero.\n",
    "supervivencia_por_clase = titanic.groupby('pclass')['survived'].mean().reset_index()\n",
    "print(supervivencia_por_clase)"
   ]
  },
  {
   "cell_type": "code",
   "execution_count": null,
   "metadata": {},
   "outputs": [],
   "source": [
    "# Crea un gráfico de barras para mostrar el porcentaje de supervivencia por clase de pasajero.\n",
    "supervivencia_por_clase.plot(kind='bar', x='pclass', y='survived')\n",
    "plt.xlabel('Clase de Pasajero')\n",
    "plt.ylabel('Porcentaje de Supervivencia')\n",
    "plt.title('Supervivencia por Clase de Pasajero')\n",
    "plt.show()"
   ]
  },
  {
   "cell_type": "code",
   "execution_count": null,
   "metadata": {},
   "outputs": [],
   "source": [
    "# Crea dos DataFrames y combínalos usando merge.\n",
    "df1= pd.DataFrame({\"Nombre\": [\"Pabblo\", \"Juan\",\"Brenda\"], \"Edad\" : [24,23,32]})\n",
    "df2 = pd.DataFrame({\"Nombre\": [\"Laura\", \"Brenda\",\"Jose\"], \"Edad\" : [56,30,34]})\n",
    "df_merge = pd.merge(df1,df2,on=\"Nombre\", how=\"outer\").fillna(\"-\")\n",
    "print(df_merge)"
   ]
  },
  {
   "cell_type": "code",
   "execution_count": null,
   "metadata": {},
   "outputs": [],
   "source": [
    "# Concatenar dos DataFrames verticalmente.\n",
    "df3 = pd.DataFrame({'Nombre': ['María', 'Pedro'], 'Edad': [22, 20]})\n",
    "df_concatenado = pd.concat([df_merge, df3], ignore_index=True).fillna(\"-\")\n",
    "print(df_concatenado)"
   ]
  }
 ],
 "metadata": {
  "kernelspec": {
   "display_name": "Python 3",
   "language": "python",
   "name": "python3"
  },
  "language_info": {
   "codemirror_mode": {
    "name": "ipython",
    "version": 3
   },
   "file_extension": ".py",
   "mimetype": "text/x-python",
   "name": "python",
   "nbconvert_exporter": "python",
   "pygments_lexer": "ipython3",
   "version": "3.11.9"
  }
 },
 "nbformat": 4,
 "nbformat_minor": 2
}
