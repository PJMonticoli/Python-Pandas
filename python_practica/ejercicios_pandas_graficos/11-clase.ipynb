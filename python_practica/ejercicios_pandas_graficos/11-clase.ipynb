{
 "cells": [
  {
   "cell_type": "code",
   "execution_count": null,
   "metadata": {},
   "outputs": [],
   "source": [
    "import pandas as pd\n",
    "# Crear un DataFrame de ejemplo\n",
    "data = {'Nombre': ['Ana', 'Luis', 'Carlos', 'María'],\n",
    "        'Edad': [23, 45, 36, 28],\n",
    "        'Salario': [50000, 60000, 55000, 45000],\n",
    "        'País': ['España', 'España', 'España', 'España']}\n",
    "df = pd.DataFrame(data)\n",
    "\n",
    "# Filtrar las personas con edad > 30\n",
    "df_filtrado = df[df['Edad'] > 30]\n",
    "\n",
    "# Mostrar el DataFrame filtrado\n",
    "print(df_filtrado)"
   ]
  },
  {
   "cell_type": "code",
   "execution_count": null,
   "metadata": {},
   "outputs": [],
   "source": [
    "edad_promedio = df['Edad'].mean()\n",
    "print(edad_promedio)"
   ]
  },
  {
   "cell_type": "code",
   "execution_count": null,
   "metadata": {},
   "outputs": [],
   "source": [
    "\n",
    "data1 = {\n",
    "    'Producto': ['Manzana', 'Banana', 'Naranja'],\n",
    "    'Precio': [1.2, 0.8, 1.5]\n",
    "}\n",
    "df1= pd.DataFrame(data1)\n",
    "data2 = {\n",
    "    'Producto': ['Manzana', 'Banana', 'Pera'],\n",
    "    'Cantidad': [10, 20, 30]\n",
    "}\n",
    "df2= pd.DataFrame(data2)\n",
    "\n",
    "df_merge_inner = pd.merge(df1,df2,on='Producto',how='inner')\n",
    "df_merge_outer = pd.merge(df1,df2,on='Producto',how='outer')\n",
    "print(df_merge_inner)\n",
    "print(df_merge_outer)"
   ]
  },
  {
   "cell_type": "code",
   "execution_count": null,
   "metadata": {},
   "outputs": [],
   "source": [
    "data = {\n",
    "    'A': [1, 2, 3, 4, 5],\n",
    "    'B': [10, 20, 30, 40, 50],\n",
    "    'C': [100, 200, 300, 400, 500]\n",
    "}\n",
    "df = pd.DataFrame(data)\n",
    "print(df)\n",
    "# df['Ax2'] = df['A'] * 2 => multiplico x2 la columna A\n",
    "#df = df.drop('C', axis=1) # => elimino la columna C axis=1 para indicar que se realiza la operacion a nivel column\n",
    "\n",
    "df = df.rename(columns={'A': 'Alpha', 'B': 'Beta'})\n",
    "print(df)\n"
   ]
  },
  {
   "cell_type": "code",
   "execution_count": null,
   "metadata": {},
   "outputs": [],
   "source": [
    "data = {\n",
    "    'Equipo': ['A', 'A', 'B', 'B', 'C', 'C'],\n",
    "    'Jugador': ['Juan', 'Luis', 'Ana', 'Carlos', 'María', 'Pedro'],\n",
    "    'Puntos': [10, 15, 20, 25, 30, 35]\n",
    "}\n",
    "df = pd.DataFrame(data)\n",
    "print(df)\n",
    "# Agrupa el DataFrame por la columna 'Equipo' y calcula la suma de los puntos para cada equipo.\n",
    "df_agrupado = df.groupby(['Equipo']).agg({'Puntos': 'sum'}).reset_index()\n",
    "#print(df_agrupado)\n",
    "# Filtra los equipos que tengan un total de puntos mayor a 30.\n",
    "df_filtrado = df[df['Puntos']>30]\n",
    "print(df_filtrado)"
   ]
  },
  {
   "cell_type": "code",
   "execution_count": null,
   "metadata": {},
   "outputs": [],
   "source": [
    "data = {\n",
    "    'Mes': ['Enero', 'Febrero', 'Marzo', 'Abril', 'Mayo'],\n",
    "    'Ventas': [200, 300, 400, 500, 600]\n",
    "}\n",
    "df = pd.DataFrame(data)\n",
    "import matplotlib.pyplot as plt\n",
    "plt.plot(df['Mes'],df['Ventas'])\n",
    "plt.xlabel('Mes')\n",
    "plt.ylabel('Ventas')\n",
    "plt.title('Ventas Mensuales')\n",
    "plt.show()"
   ]
  },
  {
   "cell_type": "code",
   "execution_count": null,
   "metadata": {},
   "outputs": [],
   "source": [
    "import pandas as pd\n",
    "url = 'https://raw.githubusercontent.com/datasciencedojo/datasets/master/titanic.csv'\n",
    "df = pd.read_csv(url)\n",
    "# Muestra las primeras 5 filas del DataFrame.\n",
    "# print(df.head(5))\n",
    "# Muestra información general del DataFrame\n",
    "# print(df.info())\n",
    "\n",
    "# Mostrar unicamente pasajeros sobrevivientes\n",
    "survived_df =  df[df['Survived']==1]\n",
    "# print(df)\n",
    "\n",
    "# Gráfico de barras que muestre la cantidad de pasajeros por clase\n",
    "import matplotlib.pyplot as plt\n",
    "survived_df['Pclass'].value_counts().plot(kind='bar')\n",
    "plt.xlabel('Clase')\n",
    "plt.ylabel('Cantidad de pasajeros')\n",
    "plt.title('Cantidad de pasajeros que sobrevivieron por clase')\n",
    "plt.show()"
   ]
  }
 ],
 "metadata": {
  "kernelspec": {
   "display_name": "Python 3",
   "language": "python",
   "name": "python3"
  },
  "language_info": {
   "codemirror_mode": {
    "name": "ipython",
    "version": 3
   },
   "file_extension": ".py",
   "mimetype": "text/x-python",
   "name": "python",
   "nbconvert_exporter": "python",
   "pygments_lexer": "ipython3",
   "version": "3.11.9"
  }
 },
 "nbformat": 4,
 "nbformat_minor": 2
}
