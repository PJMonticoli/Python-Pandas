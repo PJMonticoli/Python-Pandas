{
 "cells": [
  {
   "cell_type": "code",
   "execution_count": null,
   "metadata": {},
   "outputs": [],
   "source": [
    "import pandas as pd\n",
    "import numpy as np\n",
    "import seaborn as sns\n",
    "import matplotlib.pyplot as plt"
   ]
  },
  {
   "cell_type": "code",
   "execution_count": null,
   "metadata": {},
   "outputs": [],
   "source": [
    "df = pd.read_csv('pythonpractica\\\\python_practica\\\\archivos\\\\ModalidadVirtual.csv')"
   ]
  },
  {
   "cell_type": "code",
   "execution_count": null,
   "metadata": {},
   "outputs": [],
   "source": [
    "\n",
    "df.drop_duplicates()\n"
   ]
  },
  {
   "cell_type": "code",
   "execution_count": null,
   "metadata": {},
   "outputs": [],
   "source": [
    "df1 = pd.DataFrame({'nombre':['Pablo','Juan','Jose'],'edad':[24,23,31]})\n",
    "df2 = pd.DataFrame({'nombre':['Leo','Andres','Ivana'], 'edad':[59,44,55]})\n",
    "df_concat = pd.concat([df1,df2],ignore_index=True) # ignore_index para restablecer el índice del DataFrame\n",
    "print(df_concat)"
   ]
  },
  {
   "cell_type": "code",
   "execution_count": null,
   "metadata": {},
   "outputs": [],
   "source": [
    "sns.barplot(x='nombre',y='edad',data=df_concat)\n",
    "plt.show()"
   ]
  },
  {
   "cell_type": "code",
   "execution_count": null,
   "metadata": {},
   "outputs": [],
   "source": [
    "sns.scatterplot(x='nombre',y='edad',data=df_concat)\n",
    "plt.show()"
   ]
  },
  {
   "cell_type": "code",
   "execution_count": null,
   "metadata": {},
   "outputs": [],
   "source": [
    "sns.lineplot(x='nombre',y='edad',data=df_concat)\n",
    "plt.show()"
   ]
  },
  {
   "cell_type": "code",
   "execution_count": 80,
   "metadata": {},
   "outputs": [
    {
     "name": "stdout",
     "output_type": "stream",
     "text": [
      "    AUTOS   COLOR  MODELO\n",
      "0    Audi    Rojo  2020.0\n",
      "1    Ford  Blanco  2018.0\n",
      "2  Nissan   Negro     0.0\n",
      "3  Toyota       0  2022.0\n"
     ]
    }
   ],
   "source": [
    "df_1 = pd.DataFrame({'AUTOS':['Ford','Nissan','Audi'],'COLOR':['Blanco','Negro','Rojo']})\n",
    "df_2 = pd.DataFrame({'AUTOS':['Ford','Audi','Toyota'],'MODELO':[2018,2020,2022]})\n",
    "DF = pd.merge(df_1,df_2,on='AUTOS',how='outer') # on => hago un merge con la clave AUTOS\n",
    "# inner => se incluyen las filas que tienen coincidencias en ambas tablas.\n",
    "# outer =>  Se incluyen todas las filas de ambas tablas,las sin coincidencias\n",
    "# se muestran como Nan.\n",
    "print(DF) # imprime las coincidencias unicamente"
   ]
  }
 ],
 "metadata": {
  "kernelspec": {
   "display_name": "Python 3",
   "language": "python",
   "name": "python3"
  },
  "language_info": {
   "codemirror_mode": {
    "name": "ipython",
    "version": 3
   },
   "file_extension": ".py",
   "mimetype": "text/x-python",
   "name": "python",
   "nbconvert_exporter": "python",
   "pygments_lexer": "ipython3",
   "version": "3.11.9"
  }
 },
 "nbformat": 4,
 "nbformat_minor": 2
}
